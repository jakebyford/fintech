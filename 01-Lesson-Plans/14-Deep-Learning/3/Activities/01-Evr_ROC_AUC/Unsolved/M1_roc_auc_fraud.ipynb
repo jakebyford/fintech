version https://git-lfs.github.com/spec/v1
oid sha256:7a1f7c74bb5c544a0f613c42c0795c54ac43a6e9a5624886a7374bcfff0f3666
size 12128
