version https://git-lfs.github.com/spec/v1
oid sha256:f1d7bd384d91b916f0f81d9ab1344a8967b5c77396696e12c0bd10eeaf5136d0
size 3076512
