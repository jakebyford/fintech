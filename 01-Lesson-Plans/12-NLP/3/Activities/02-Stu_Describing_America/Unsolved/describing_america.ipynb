version https://git-lfs.github.com/spec/v1
oid sha256:4127adc438af084c27c48a26de1fb0c3152d7aa708090f8187a24bb526862844
size 102959
