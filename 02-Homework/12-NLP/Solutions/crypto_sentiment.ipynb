version https://git-lfs.github.com/spec/v1
oid sha256:33bc69ef9202d00d4ea49b4faa8af77791070dc502eaa968b96cf771ed6d5fad
size 1334979
